{
 "cells": [
  {
   "cell_type": "code",
   "execution_count": 56,
   "id": "e99da525-4379-42af-af38-31b7bf54069d",
   "metadata": {},
   "outputs": [],
   "source": [
    "#Question 1\n",
    "def valid_password(password):\n",
    "    if len(password) !=10:\n",
    "        return \"invalid password\"\n",
    "    upper_count = 0\n",
    "    lower_count =0\n",
    "    no_count = 0\n",
    "    special_count = 0\n",
    "    for i in password :\n",
    "        if i.isupper():\n",
    "            upper_count = upper_count+1\n",
    "        elif i.islower():\n",
    "            lower_count= lower_count+1\n",
    "        elif i.isdigit():\n",
    "            no_count=no_count+1\n",
    "        else:\n",
    "            special_count=special_count+1\n",
    "    if upper_count >=2 and lower_count >= 2 and no_count >= 1 and special_count >= 3 :\n",
    "        return \"valid password\"\n",
    "    else :\n",
    "        return \"invalid password\""
   ]
  },
  {
   "cell_type": "code",
   "execution_count": 61,
   "id": "bb84894d-751e-44df-a8fa-a4f7cfda139d",
   "metadata": {},
   "outputs": [],
   "source": [
    "obj= valid_password(\"ABcdfd1#!@\")"
   ]
  },
  {
   "cell_type": "code",
   "execution_count": 62,
   "id": "26bebdd3-40d6-4043-9fec-9c06ac8a48f3",
   "metadata": {},
   "outputs": [
    {
     "name": "stdout",
     "output_type": "stream",
     "text": [
      "valid password\n"
     ]
    }
   ],
   "source": [
    "print(obj)"
   ]
  },
  {
   "cell_type": "code",
   "execution_count": 64,
   "id": "e4e0277e-4a42-4b4c-acfa-e248b49c9615",
   "metadata": {},
   "outputs": [
    {
     "name": "stdout",
     "output_type": "stream",
     "text": [
      "['apple']\n"
     ]
    }
   ],
   "source": [
    "#Question2\n",
    "\n",
    "\n",
    "# 1 .Check if the string starts with a particular letter:\n",
    "\n",
    "string_list = [\"apple\", \"banana\", \"cherry\", \"orange\"]\n",
    "letter = \"a\"\n",
    "result = list(filter(lambda s: s.startswith(letter), string_list))\n",
    "print(result)  # Output: [\"apple\"]"
   ]
  },
  {
   "cell_type": "code",
   "execution_count": 65,
   "id": "c233557d-f1d5-4c62-8949-0bb0dc1a46ce",
   "metadata": {},
   "outputs": [
    {
     "name": "stdout",
     "output_type": "stream",
     "text": [
      "['123', '456', '789']\n"
     ]
    }
   ],
   "source": [
    "#2 .Check if the string is numeric:\n",
    "string_list = [\"123\", \"apple\", \"456\", \"789\", \"banana\"]\n",
    "result = list(filter(str.isnumeric, string_list))\n",
    "print(result)  # Output: [\"123\", \"456\", \"789\"]"
   ]
  },
  {
   "cell_type": "code",
   "execution_count": 67,
   "id": "60dca7cf-25ae-4a22-b514-43e0b59e4c64",
   "metadata": {},
   "outputs": [
    {
     "name": "stdout",
     "output_type": "stream",
     "text": [
      "[('orange', 80), ('mango', 99), ('grapes', 1000)]\n"
     ]
    }
   ],
   "source": [
    "#3 Sort a list of tuples having fruit names and their quantity:\n",
    "\n",
    "fruits = [(\"mango\", 99), (\"orange\", 80), (\"grapes\", 1000)]\n",
    "sorted_fruits = sorted(fruits, key=lambda x: x[1])\n",
    "print(sorted_fruits)  # Output: [(\"orange\", 80)"
   ]
  },
  {
   "cell_type": "code",
   "execution_count": 68,
   "id": "b78821f2-e7bd-43f7-a76e-b9013767b15c",
   "metadata": {},
   "outputs": [
    {
     "name": "stdout",
     "output_type": "stream",
     "text": [
      "[1, 4, 9, 16, 25, 36, 49, 64, 81, 100]\n",
      "[1.0, 1.2599210498948732, 1.4422495703074083, 1.5874010519681994, 1.7099759466766968, 1.8171205928321397, 1.912931182772389, 2.0, 2.080083823051904, 2.154434690031884]\n",
      "False\n"
     ]
    }
   ],
   "source": [
    "#4 Find the squares of numbers from 1 to 10:\n",
    "\n",
    "squares = [x ** 2 for x in range(1, 11)]\n",
    "print(squares)  # Output: [1, 4, 9, 16, 25, 36, 49, 64, 81, 100]\n",
    "#5 Find the cube root of numbers from 1 to 10:\n",
    "\n",
    "import math\n",
    "cube_roots = list(map(lambda x: x ** (1 / 3), range(1, 11)))\n",
    "print(cube_roots)  205928321397, 1.912931182772389, 2.0, 2.080084751918702, 2.154434690031884]\n",
    "#6 Check if a given number is even:\n",
    "\n",
    "num = 7\n",
    "is_even = lambda x: x % 2 == 0\n",
    "print(is_even(num)) "
   ]
  },
  {
   "cell_type": "code",
   "execution_count": null,
   "id": "841cbbe3-5f1a-48d0-8380-0d553cb3a445",
   "metadata": {},
   "outputs": [],
   "source": []
  }
 ],
 "metadata": {
  "kernelspec": {
   "display_name": "Python 3 (ipykernel)",
   "language": "python",
   "name": "python3"
  },
  "language_info": {
   "codemirror_mode": {
    "name": "ipython",
    "version": 3
   },
   "file_extension": ".py",
   "mimetype": "text/x-python",
   "name": "python",
   "nbconvert_exporter": "python",
   "pygments_lexer": "ipython3",
   "version": "3.10.8"
  }
 },
 "nbformat": 4,
 "nbformat_minor": 5
}
